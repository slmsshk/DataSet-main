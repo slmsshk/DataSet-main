{
 "cells": [
  {
   "cell_type": "code",
   "execution_count": 1,
   "id": "ef5ffa37",
   "metadata": {},
   "outputs": [
    {
     "name": "stdout",
     "output_type": "stream",
     "text": [
      "        Age     HbA1c Genetic Info Family History  Birth Weight  \\\n",
      "0  3.828739  7.739463  No mutation             No      2.413360   \n",
      "1  7.994691  7.256589  No mutation             No      2.464051   \n",
      "2  6.565957  5.877747  No mutation             No      3.254907   \n",
      "3  2.987411  4.855675  No mutation             No      3.814540   \n",
      "4  4.842799  6.433162  No mutation             No      3.229332   \n",
      "\n",
      "  Developmental Delay  Insulin Level  PNDM  \n",
      "0                  No       6.581613     0  \n",
      "1                  No       3.509225     0  \n",
      "2                  No       5.629881     0  \n",
      "3                  No      -0.951440     0  \n",
      "4                  No       5.447897     0  \n"
     ]
    }
   ],
   "source": [
    "import numpy as np\n",
    "import pandas as pd\n",
    "\n",
    "# set random seed for reproducibility\n",
    "np.random.seed(123)\n",
    "\n",
    "# generate simulated data for age at diagnosis and HbA1c levels\n",
    "n_samples = 100000\n",
    "age = np.random.normal(loc=6, scale=2, size=n_samples)\n",
    "hba1c = np.random.normal(loc=7, scale=1, size=n_samples)\n",
    "\n",
    "# generate simulated data for genetic information and family history\n",
    "genetic_info = np.random.choice(['Mutation', 'No mutation'], size=n_samples, p=[0.2, 0.8])\n",
    "family_history = np.random.choice(['Yes', 'No'], size=n_samples, p=[0.1, 0.9])\n",
    "\n",
    "# generate simulated data for clinical features and laboratory data\n",
    "birth_weight = np.random.normal(loc=2.8, scale=0.5, size=n_samples)\n",
    "developmental_delay = np.random.choice(['Yes', 'No'], size=n_samples, p=[0.15, 0.85])\n",
    "insulin_level = np.random.normal(loc=5, scale=2, size=n_samples)\n",
    "\n",
    "# create a dataframe to store the data\n",
    "data = pd.DataFrame({'Age': age, 'HbA1c': hba1c, 'Genetic Info': genetic_info, 'Family History': family_history, 'Birth Weight': birth_weight, 'Developmental Delay': developmental_delay, 'Insulin Level': insulin_level})\n",
    "\n",
    "# add a column for PNDM diagnosis based on a combination of features\n",
    "threshold_age = 5\n",
    "threshold_hba1c = 9\n",
    "data['PNDM'] = np.where(((data['Age'] < threshold_age) & (data['Genetic Info'] == 'Mutation') & (data['Birth Weight'] < 3)) | ((data['HbA1c'] > threshold_hba1c) & (data['Family History'] == 'Yes') & (data['Developmental Delay'] == 'Yes') & (data['Insulin Level'] > 6)), 1, 0)\n",
    "\n",
    "# display the first few rows of the data\n",
    "print(data.head())\n"
   ]
  },
  {
   "cell_type": "code",
   "execution_count": null,
   "id": "97f37313",
   "metadata": {},
   "outputs": [],
   "source": [
    "data.to_csv('PNDB.csv',header=)"
   ]
  },
  {
   "cell_type": "code",
   "execution_count": 1,
   "id": "4bbef5d4",
   "metadata": {},
   "outputs": [],
   "source": [
    "# !pip install barnum\n",
    "# !pip install randomname"
   ]
  },
  {
   "cell_type": "code",
   "execution_count": 2,
   "id": "55195d71",
   "metadata": {},
   "outputs": [],
   "source": [
    "# dir(barnum),dir(rm)\n",
    "# barnum.create_city_state_zip(zip_code=None)[1] #Get city name\n",
    "# print('adjective categories:', randomname.ADJECTIVES) #Print Available adj\n",
    "# print('noun categories:', randomname.NOUNS) #Print available nouns"
   ]
  },
  {
   "cell_type": "code",
   "execution_count": 3,
   "id": "3474c831",
   "metadata": {},
   "outputs": [],
   "source": [
    "# import randomname\n",
    "\n",
    "# # generate name using all categories\n",
    "# # name = randomname.get_name()\n",
    "# # or specify a subset of the categories\n",
    "# name = randomname.get_name( noun=( 'wine'))\n",
    "# # # or - you can take a bit more liberty about\n",
    "# # name = randomname.generate(\n",
    "# #     'v/fire', 'adj/music_theory', ('n/cats', 'n/food'))\n",
    "\n",
    "# # # these contain the available groups\n",
    "# # print('adjective categories:', randomname.ADJECTIVES)\n",
    "# # print('noun categories:', randomname.NOUNS)\n",
    "\n",
    "# print(name)"
   ]
  },
  {
   "cell_type": "code",
   "execution_count": 4,
   "id": "095aab21",
   "metadata": {},
   "outputs": [],
   "source": [
    "import barnum\n",
    "import randomname as rm\n",
    "\n",
    "import pandas as pd\n",
    "import numpy as np"
   ]
  },
  {
   "cell_type": "code",
   "execution_count": 5,
   "id": "496c6647",
   "metadata": {},
   "outputs": [
    {
     "data": {
      "text/html": [
       "<div>\n",
       "<style scoped>\n",
       "    .dataframe tbody tr th:only-of-type {\n",
       "        vertical-align: middle;\n",
       "    }\n",
       "\n",
       "    .dataframe tbody tr th {\n",
       "        vertical-align: top;\n",
       "    }\n",
       "\n",
       "    .dataframe thead th {\n",
       "        text-align: right;\n",
       "    }\n",
       "</style>\n",
       "<table border=\"1\" class=\"dataframe\">\n",
       "  <thead>\n",
       "    <tr style=\"text-align: right;\">\n",
       "      <th></th>\n",
       "      <th>Sales</th>\n",
       "      <th>Product</th>\n",
       "      <th>District</th>\n",
       "      <th>Date</th>\n",
       "    </tr>\n",
       "  </thead>\n",
       "  <tbody>\n",
       "    <tr>\n",
       "      <th>0</th>\n",
       "      <td>514</td>\n",
       "      <td>aged-chinon</td>\n",
       "      <td>Branchville</td>\n",
       "      <td>2027-05-23 21:34:58.640361</td>\n",
       "    </tr>\n",
       "    <tr>\n",
       "      <th>1</th>\n",
       "      <td>1693</td>\n",
       "      <td>spry-champagne</td>\n",
       "      <td>Charleston</td>\n",
       "      <td>2024-03-26 21:34:58.640361</td>\n",
       "    </tr>\n",
       "    <tr>\n",
       "      <th>2</th>\n",
       "      <td>1026</td>\n",
       "      <td>local-marsanne</td>\n",
       "      <td>Boise</td>\n",
       "      <td>2023-10-02 21:34:58.640361</td>\n",
       "    </tr>\n",
       "    <tr>\n",
       "      <th>3</th>\n",
       "      <td>763</td>\n",
       "      <td>rounded-chardonnay</td>\n",
       "      <td>Pensacola</td>\n",
       "      <td>2027-07-21 21:34:58.640361</td>\n",
       "    </tr>\n",
       "    <tr>\n",
       "      <th>4</th>\n",
       "      <td>950</td>\n",
       "      <td>taxonomic-muscat</td>\n",
       "      <td>Round Rock</td>\n",
       "      <td>2024-08-02 21:34:58.640361</td>\n",
       "    </tr>\n",
       "  </tbody>\n",
       "</table>\n",
       "</div>"
      ],
      "text/plain": [
       "   Sales             Product     District                       Date\n",
       "0    514         aged-chinon  Branchville 2027-05-23 21:34:58.640361\n",
       "1   1693      spry-champagne   Charleston 2024-03-26 21:34:58.640361\n",
       "2   1026      local-marsanne        Boise 2023-10-02 21:34:58.640361\n",
       "3    763  rounded-chardonnay    Pensacola 2027-07-21 21:34:58.640361\n",
       "4    950    taxonomic-muscat   Round Rock 2024-08-02 21:34:58.640361"
      ]
     },
     "execution_count": 5,
     "metadata": {},
     "output_type": "execute_result"
    }
   ],
   "source": [
    "x={\n",
    "    \"Sales\":np.random.randint(500,2000,10000),\n",
    "    \"Product\":[rm.get_name( noun=( 'wine')) for i in range (10000)],\n",
    "   'District':[barnum.create_city_state_zip(zip_code=None)[1] for i in range(10000)],\n",
    "   'Date':[barnum.create_date() for i in range(10000)]\n",
    "  }\n",
    "\n",
    "df=pd.DataFrame(x)\n",
    "df.head()"
   ]
  },
  {
   "cell_type": "code",
   "execution_count": 6,
   "id": "0a7ac8df",
   "metadata": {},
   "outputs": [
    {
     "data": {
      "text/html": [
       "<div>\n",
       "<style scoped>\n",
       "    .dataframe tbody tr th:only-of-type {\n",
       "        vertical-align: middle;\n",
       "    }\n",
       "\n",
       "    .dataframe tbody tr th {\n",
       "        vertical-align: top;\n",
       "    }\n",
       "\n",
       "    .dataframe thead th {\n",
       "        text-align: right;\n",
       "    }\n",
       "</style>\n",
       "<table border=\"1\" class=\"dataframe\">\n",
       "  <thead>\n",
       "    <tr style=\"text-align: right;\">\n",
       "      <th></th>\n",
       "      <th>Sales</th>\n",
       "      <th>Product</th>\n",
       "      <th>District</th>\n",
       "    </tr>\n",
       "    <tr>\n",
       "      <th>Date</th>\n",
       "      <th></th>\n",
       "      <th></th>\n",
       "      <th></th>\n",
       "    </tr>\n",
       "  </thead>\n",
       "  <tbody>\n",
       "    <tr>\n",
       "      <th>2022-10-11 21:34:58.671609</th>\n",
       "      <td>571</td>\n",
       "      <td>pointed-arneis</td>\n",
       "      <td>Belton</td>\n",
       "    </tr>\n",
       "    <tr>\n",
       "      <th>2022-10-11 21:34:58.671609</th>\n",
       "      <td>1840</td>\n",
       "      <td>dichotomic-muscat</td>\n",
       "      <td>Palatine</td>\n",
       "    </tr>\n",
       "    <tr>\n",
       "      <th>2022-10-12 21:34:58.671609</th>\n",
       "      <td>1124</td>\n",
       "      <td>corn-burgundy</td>\n",
       "      <td>Wren</td>\n",
       "    </tr>\n",
       "    <tr>\n",
       "      <th>2022-10-14 21:34:58.655987</th>\n",
       "      <td>1854</td>\n",
       "      <td>achromatic-auslese</td>\n",
       "      <td>Bakers Mills</td>\n",
       "    </tr>\n",
       "    <tr>\n",
       "      <th>2022-10-14 21:34:58.655987</th>\n",
       "      <td>1122</td>\n",
       "      <td>optimal-chianti</td>\n",
       "      <td>Sanford</td>\n",
       "    </tr>\n",
       "  </tbody>\n",
       "</table>\n",
       "</div>"
      ],
      "text/plain": [
       "                            Sales             Product      District\n",
       "Date                                                               \n",
       "2022-10-11 21:34:58.671609    571      pointed-arneis        Belton\n",
       "2022-10-11 21:34:58.671609   1840   dichotomic-muscat      Palatine\n",
       "2022-10-12 21:34:58.671609   1124       corn-burgundy          Wren\n",
       "2022-10-14 21:34:58.655987   1854  achromatic-auslese  Bakers Mills\n",
       "2022-10-14 21:34:58.655987   1122     optimal-chianti       Sanford"
      ]
     },
     "execution_count": 6,
     "metadata": {},
     "output_type": "execute_result"
    }
   ],
   "source": [
    "df2=df.set_index(pd.DatetimeIndex(df['Date'])).drop('Date',axis=1).sort_index()\n",
    "df2.head()"
   ]
  }
 ],
 "metadata": {
  "kernelspec": {
   "display_name": "Python 3 (ipykernel)",
   "language": "python",
   "name": "python3"
  },
  "language_info": {
   "codemirror_mode": {
    "name": "ipython",
    "version": 3
   },
   "file_extension": ".py",
   "mimetype": "text/x-python",
   "name": "python",
   "nbconvert_exporter": "python",
   "pygments_lexer": "ipython3",
   "version": "3.9.13"
  }
 },
 "nbformat": 4,
 "nbformat_minor": 5
}
