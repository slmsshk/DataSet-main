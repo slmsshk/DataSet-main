{
 "cells": [
  {
   "cell_type": "code",
   "execution_count": 1,
   "id": "82654ceb",
   "metadata": {
    "ExecuteTime": {
     "end_time": "2022-12-15T06:25:17.881460Z",
     "start_time": "2022-12-15T06:25:16.751532Z"
    }
   },
   "outputs": [],
   "source": [
    "import pandas as pd\n",
    "import re\n"
   ]
  },
  {
   "cell_type": "code",
   "execution_count": 89,
   "id": "6e6328d5",
   "metadata": {
    "ExecuteTime": {
     "end_time": "2022-12-15T07:01:15.687415Z",
     "start_time": "2022-12-15T07:01:15.669916Z"
    },
    "code_folding": [
     0
    ]
   },
   "outputs": [],
   "source": [
    "# \n",
    "X=\"\"\"\n",
    "city\tName of the city\n",
    "country\tName of the country\n",
    "x1\tMeal, Inexpensive Restaurant (USD)\n",
    "x2\tMeal for 2 People, Mid-range Restaurant, Three-course (USD)\n",
    "x3\tMcMeal at McDonalds (or Equivalent Combo Meal) (USD)\n",
    "x4\tDomestic Beer (0.5 liter draught, in restaurants) (USD)\n",
    "x5\tImported Beer (0.33 liter bottle, in restaurants) (USD)\n",
    "x6\tCappuccino (regular, in restaurants) (USD)\n",
    "x7\tCoke/Pepsi (0.33 liter bottle, in restaurants) (USD)\n",
    "x8\tWater (0.33 liter bottle, in restaurants) (USD)\n",
    "x9\tMilk (regular), (1 liter) (USD)\n",
    "x10\tLoaf of Fresh White Bread (500g) (USD)\n",
    "x11\tRice (white), (1kg) (USD)\n",
    "x12\tEggs (regular) (12) (USD)\n",
    "x13\tLocal Cheese (1kg) (USD)\n",
    "x14\tChicken Fillets (1kg) (USD)\n",
    "x15\tBeef Round (1kg) (or Equivalent Back Leg Red Meat) (USD)\n",
    "x16\tApples (1kg) (USD)\n",
    "x17\tBanana (1kg) (USD)\n",
    "x18\tOranges (1kg) (USD)\n",
    "x19\tTomato (1kg) (USD)\n",
    "x20\tPotato (1kg) (USD)\n",
    "x21\tOnion (1kg) (USD)\n",
    "x22\tLettuce (1 head) (USD)\n",
    "x23\tWater (1.5 liter bottle, at the market) (USD)\n",
    "x24\tBottle of Wine (Mid-Range, at the market) (USD)\n",
    "x25\tDomestic Beer (0.5 liter bottle, at the market) (USD)\n",
    "x26\tImported Beer (0.33 liter bottle, at the market) (USD)\n",
    "x27\tCigarettes 20 Pack (Marlboro) (USD)\n",
    "x28\tOne-way Ticket (Local Transport) (USD)\n",
    "x29\tMonthly Pass (Regular Price) (USD)\n",
    "x30\tTaxi Start (Normal Tariff) (USD)\n",
    "x31\tTaxi 1km (Normal Tariff) (USD)\n",
    "x32\tTaxi 1hour Waiting (Normal Tariff) (USD)\n",
    "x33\tGasoline (1 liter) (USD)\n",
    "x34\tVolkswagen Golf 1.4 90 KW Trendline (Or Equivalent New Car) (USD)\n",
    "x35\tToyota Corolla Sedan 1.6l 97kW Comfort (Or Equivalent New Car) (USD)\n",
    "x36\tBasic (Electricity, Heating, Cooling, Water, Garbage) for 85m2 Apartment (USD)\n",
    "x37\t1 min. of Prepaid Mobile Tariff Local (No Discounts or Plans) (USD)\n",
    "x38\tInternet (60 Mbps or More, Unlimited Data, Cable/ADSL) (USD)\n",
    "x39\tFitness Club, Monthly Fee for 1 Adult (USD)\n",
    "x40\tTennis Court Rent (1 Hour on Weekend) (USD)\n",
    "x41\tCinema, International Release, 1 Seat (USD)\n",
    "x42\tPreschool (or Kindergarten), Full Day, Private, Monthly for 1 Child (USD)\n",
    "x43\tInternational Primary School, Yearly for 1 Child (USD)\n",
    "x44\t1 Pair of Jeans (Levis 501 Or Similar) (USD)\n",
    "x45\t1 Summer Dress in a Chain Store (Zara, H&M, …) (USD)\n",
    "x46\t1 Pair of Nike Running Shoes (Mid-Range) (USD)\n",
    "x47\t1 Pair of Men Leather Business Shoes (USD)\n",
    "x48\tApartment (1 bedroom) in City Centre (USD)\n",
    "x49\tApartment (1 bedroom) Outside of Centre (USD)\n",
    "x50\tApartment (3 bedrooms) in City Centre (USD)\n",
    "x51\tApartment (3 bedrooms) Outside of Centre (USD)\n",
    "x52\tPrice per Square Meter to Buy Apartment in City Centre (USD)\n",
    "x53\tPrice per Square Meter to Buy Apartment Outside of Centre (USD)\n",
    "x54\tAverage Monthly Net Salary (After Tax) (USD)\n",
    "x55\tMortgage Interest Rate in Percentages (%), Yearly, for 20 Years Fixed-Rate\n",
    "data_quality\t0 if Numbeo considers that more contributors are needed to increase data quality, else 1\"\"\""
   ]
  },
  {
   "cell_type": "code",
   "execution_count": 104,
   "id": "fdc988f0",
   "metadata": {
    "ExecuteTime": {
     "end_time": "2022-12-15T07:03:40.388123Z",
     "start_time": "2022-12-15T07:03:40.379146Z"
    },
    "code_folding": [
     0
    ]
   },
   "outputs": [],
   "source": [
    "# split the data\n",
    "x=re.split(\"\\t\",X)\n",
    "# re.split(\"\\n\",x)\n",
    "y=[re.split(\"\\n\",i) for i in x]\n",
    "# col=[y[i][i] for i in range(len(y))]\n",
    "# col"
   ]
  },
  {
   "cell_type": "code",
   "execution_count": 140,
   "id": "ffd21469",
   "metadata": {
    "ExecuteTime": {
     "end_time": "2022-12-15T07:14:12.218954Z",
     "start_time": "2022-12-15T07:14:12.199012Z"
    }
   },
   "outputs": [
    {
     "name": "stdout",
     "output_type": "stream",
     "text": [
      "this is it ['Name of the country', 'x1']\n"
     ]
    },
    {
     "data": {
      "text/plain": [
       "['city',\n",
       " 'country',\n",
       " 'Meal, Inexpensive Restaurant (USD)',\n",
       " 'Meal for 2 People, Mid-range Restaurant, Three-course (USD)',\n",
       " 'McMeal at McDonalds (or Equivalent Combo Meal) (USD)',\n",
       " 'Domestic Beer (0.5 liter draught, in restaurants) (USD)',\n",
       " 'Imported Beer (0.33 liter bottle, in restaurants) (USD)',\n",
       " 'Cappuccino (regular, in restaurants) (USD)',\n",
       " 'Coke/Pepsi (0.33 liter bottle, in restaurants) (USD)',\n",
       " 'Water (0.33 liter bottle, in restaurants) (USD)',\n",
       " 'Milk (regular), (1 liter) (USD)',\n",
       " 'Loaf of Fresh White Bread (500g) (USD)',\n",
       " 'Rice (white), (1kg) (USD)',\n",
       " 'Eggs (regular) (12) (USD)',\n",
       " 'Local Cheese (1kg) (USD)',\n",
       " 'Chicken Fillets (1kg) (USD)',\n",
       " 'Beef Round (1kg) (or Equivalent Back Leg Red Meat) (USD)',\n",
       " 'Apples (1kg) (USD)',\n",
       " 'Banana (1kg) (USD)',\n",
       " 'Oranges (1kg) (USD)',\n",
       " 'Tomato (1kg) (USD)',\n",
       " 'Potato (1kg) (USD)',\n",
       " 'Onion (1kg) (USD)',\n",
       " 'Lettuce (1 head) (USD)',\n",
       " 'Water (1.5 liter bottle, at the market) (USD)',\n",
       " 'Bottle of Wine (Mid-Range, at the market) (USD)',\n",
       " 'Domestic Beer (0.5 liter bottle, at the market) (USD)',\n",
       " 'Imported Beer (0.33 liter bottle, at the market) (USD)',\n",
       " 'Cigarettes 20 Pack (Marlboro) (USD)',\n",
       " 'One-way Ticket (Local Transport) (USD)',\n",
       " 'Monthly Pass (Regular Price) (USD)',\n",
       " 'Taxi Start (Normal Tariff) (USD)',\n",
       " 'Taxi 1km (Normal Tariff) (USD)',\n",
       " 'Taxi 1hour Waiting (Normal Tariff) (USD)',\n",
       " 'Gasoline (1 liter) (USD)',\n",
       " 'Volkswagen Golf 1.4 90 KW Trendline (Or Equivalent New Car) (USD)',\n",
       " 'Toyota Corolla Sedan 1.6l 97kW Comfort (Or Equivalent New Car) (USD)',\n",
       " 'Basic (Electricity, Heating, Cooling, Water, Garbage) for 85m2 Apartment (USD)',\n",
       " '1 min. of Prepaid Mobile Tariff Local (No Discounts or Plans) (USD)',\n",
       " 'Internet (60 Mbps or More, Unlimited Data, Cable/ADSL) (USD)',\n",
       " 'Fitness Club, Monthly Fee for 1 Adult (USD)',\n",
       " 'Tennis Court Rent (1 Hour on Weekend) (USD)',\n",
       " 'Cinema, International Release, 1 Seat (USD)',\n",
       " 'Preschool (or Kindergarten), Full Day, Private, Monthly for 1 Child (USD)',\n",
       " 'International Primary School, Yearly for 1 Child (USD)',\n",
       " '1 Pair of Jeans (Levis 501 Or Similar) (USD)',\n",
       " '1 Summer Dress in a Chain Store (Zara, H&M, …) (USD)',\n",
       " '1 Pair of Nike Running Shoes (Mid-Range) (USD)',\n",
       " '1 Pair of Men Leather Business Shoes (USD)',\n",
       " 'Apartment (1 bedroom) in City Centre (USD)',\n",
       " 'Apartment (1 bedroom) Outside of Centre (USD)',\n",
       " 'Apartment (3 bedrooms) in City Centre (USD)',\n",
       " 'Apartment (3 bedrooms) Outside of Centre (USD)',\n",
       " 'Price per Square Meter to Buy Apartment in City Centre (USD)',\n",
       " 'Price per Square Meter to Buy Apartment Outside of Centre (USD)',\n",
       " 'Average Monthly Net Salary (After Tax) (USD)',\n",
       " 'Mortgage Interest Rate in Percentages (%), Yearly, for 20 Years Fixed-Rate',\n",
       " '0 if Numbeo considers that more contributors are needed to increase data quality, else 1']"
      ]
     },
     "execution_count": 140,
     "metadata": {},
     "output_type": "execute_result"
    }
   ],
   "source": [
    "col=[] #Sequence for first three character is irregular hence create conditions for same rest auto update\n",
    "for i,j in enumerate(y):\n",
    "    if i ==0:\n",
    "        col.append(y[i][i])\n",
    "    elif i==1:\n",
    "        col.append(y[i][1])\n",
    "    elif i==2:\n",
    "        pass\n",
    "        print('this is it',y[i],)\n",
    "    else:\n",
    "        col.append(j[0])\n",
    "#         print(j[0])\n",
    "\n",
    "col"
   ]
  },
  {
   "cell_type": "code",
   "execution_count": 139,
   "id": "f7b54ac0",
   "metadata": {
    "ExecuteTime": {
     "end_time": "2022-12-15T07:13:40.709985Z",
     "start_time": "2022-12-15T07:13:40.701009Z"
    }
   },
   "outputs": [
    {
     "data": {
      "text/plain": [
       "58"
      ]
     },
     "execution_count": 139,
     "metadata": {},
     "output_type": "execute_result"
    }
   ],
   "source": [
    "len(col)"
   ]
  },
  {
   "cell_type": "code",
   "execution_count": 58,
   "id": "8cbeb770",
   "metadata": {
    "ExecuteTime": {
     "end_time": "2022-12-15T06:49:55.837319Z",
     "start_time": "2022-12-15T06:49:55.821668Z"
    }
   },
   "outputs": [
    {
     "data": {
      "text/plain": [
       "59"
      ]
     },
     "execution_count": 58,
     "metadata": {},
     "output_type": "execute_result"
    }
   ],
   "source": [
    "len(y)"
   ]
  },
  {
   "cell_type": "code",
   "execution_count": 148,
   "id": "74f9a904",
   "metadata": {
    "ExecuteTime": {
     "end_time": "2022-12-15T07:15:25.598578Z",
     "start_time": "2022-12-15T07:15:25.506661Z"
    }
   },
   "outputs": [
    {
     "data": {
      "text/html": [
       "<div>\n",
       "<style scoped>\n",
       "    .dataframe tbody tr th:only-of-type {\n",
       "        vertical-align: middle;\n",
       "    }\n",
       "\n",
       "    .dataframe tbody tr th {\n",
       "        vertical-align: top;\n",
       "    }\n",
       "\n",
       "    .dataframe thead th {\n",
       "        text-align: right;\n",
       "    }\n",
       "</style>\n",
       "<table border=\"1\" class=\"dataframe\">\n",
       "  <thead>\n",
       "    <tr style=\"text-align: right;\">\n",
       "      <th></th>\n",
       "      <th>city</th>\n",
       "      <th>country</th>\n",
       "      <th>Meal, Inexpensive Restaurant (USD)</th>\n",
       "      <th>Meal for 2 People, Mid-range Restaurant, Three-course (USD)</th>\n",
       "      <th>McMeal at McDonalds (or Equivalent Combo Meal) (USD)</th>\n",
       "      <th>Domestic Beer (0.5 liter draught, in restaurants) (USD)</th>\n",
       "      <th>Imported Beer (0.33 liter bottle, in restaurants) (USD)</th>\n",
       "      <th>Cappuccino (regular, in restaurants) (USD)</th>\n",
       "      <th>Coke/Pepsi (0.33 liter bottle, in restaurants) (USD)</th>\n",
       "      <th>Water (0.33 liter bottle, in restaurants) (USD)</th>\n",
       "      <th>...</th>\n",
       "      <th>1 Pair of Men Leather Business Shoes (USD)</th>\n",
       "      <th>Apartment (1 bedroom) in City Centre (USD)</th>\n",
       "      <th>Apartment (1 bedroom) Outside of Centre (USD)</th>\n",
       "      <th>Apartment (3 bedrooms) in City Centre (USD)</th>\n",
       "      <th>Apartment (3 bedrooms) Outside of Centre (USD)</th>\n",
       "      <th>Price per Square Meter to Buy Apartment in City Centre (USD)</th>\n",
       "      <th>Price per Square Meter to Buy Apartment Outside of Centre (USD)</th>\n",
       "      <th>Average Monthly Net Salary (After Tax) (USD)</th>\n",
       "      <th>Mortgage Interest Rate in Percentages (%), Yearly, for 20 Years Fixed-Rate</th>\n",
       "      <th>0 if Numbeo considers that more contributors are needed to increase data quality, else 1</th>\n",
       "    </tr>\n",
       "  </thead>\n",
       "  <tbody>\n",
       "    <tr>\n",
       "      <th>NaN</th>\n",
       "      <td>city</td>\n",
       "      <td>country</td>\n",
       "      <td>x1</td>\n",
       "      <td>x2</td>\n",
       "      <td>x3</td>\n",
       "      <td>x4</td>\n",
       "      <td>x5</td>\n",
       "      <td>x6</td>\n",
       "      <td>x7</td>\n",
       "      <td>x8</td>\n",
       "      <td>...</td>\n",
       "      <td>x47</td>\n",
       "      <td>x48</td>\n",
       "      <td>x49</td>\n",
       "      <td>x50</td>\n",
       "      <td>x51</td>\n",
       "      <td>x52</td>\n",
       "      <td>x53</td>\n",
       "      <td>x54</td>\n",
       "      <td>x55</td>\n",
       "      <td>data_quality</td>\n",
       "    </tr>\n",
       "    <tr>\n",
       "      <th>0.0</th>\n",
       "      <td>Delhi</td>\n",
       "      <td>India</td>\n",
       "      <td>4.9</td>\n",
       "      <td>22.04</td>\n",
       "      <td>4.28</td>\n",
       "      <td>1.84</td>\n",
       "      <td>3.67</td>\n",
       "      <td>1.78</td>\n",
       "      <td>0.48</td>\n",
       "      <td>0.19</td>\n",
       "      <td>...</td>\n",
       "      <td>36.26</td>\n",
       "      <td>223.87</td>\n",
       "      <td>133.38</td>\n",
       "      <td>596.16</td>\n",
       "      <td>325.82</td>\n",
       "      <td>2619.46</td>\n",
       "      <td>1068.9</td>\n",
       "      <td>586.35</td>\n",
       "      <td>7.96</td>\n",
       "      <td>1</td>\n",
       "    </tr>\n",
       "    <tr>\n",
       "      <th>1.0</th>\n",
       "      <td>Shanghai</td>\n",
       "      <td>China</td>\n",
       "      <td>5.59</td>\n",
       "      <td>40.51</td>\n",
       "      <td>5.59</td>\n",
       "      <td>1.12</td>\n",
       "      <td>4.19</td>\n",
       "      <td>3.96</td>\n",
       "      <td>0.52</td>\n",
       "      <td>0.32</td>\n",
       "      <td>...</td>\n",
       "      <td>121.19</td>\n",
       "      <td>1080.07</td>\n",
       "      <td>564.3</td>\n",
       "      <td>2972.57</td>\n",
       "      <td>1532.23</td>\n",
       "      <td>17333.09</td>\n",
       "      <td>9174.88</td>\n",
       "      <td>1382.83</td>\n",
       "      <td>5.01</td>\n",
       "      <td>1</td>\n",
       "    </tr>\n",
       "    <tr>\n",
       "      <th>2.0</th>\n",
       "      <td>Jakarta</td>\n",
       "      <td>Indonesia</td>\n",
       "      <td>2.54</td>\n",
       "      <td>22.25</td>\n",
       "      <td>3.5</td>\n",
       "      <td>2.02</td>\n",
       "      <td>3.18</td>\n",
       "      <td>2.19</td>\n",
       "      <td>0.59</td>\n",
       "      <td>0.27</td>\n",
       "      <td>...</td>\n",
       "      <td>80.32</td>\n",
       "      <td>482.85</td>\n",
       "      <td>270.15</td>\n",
       "      <td>1117.69</td>\n",
       "      <td>584.37</td>\n",
       "      <td>2694.05</td>\n",
       "      <td>1269.44</td>\n",
       "      <td>483.19</td>\n",
       "      <td>9.15</td>\n",
       "      <td>1</td>\n",
       "    </tr>\n",
       "    <tr>\n",
       "      <th>3.0</th>\n",
       "      <td>Manila</td>\n",
       "      <td>Philippines</td>\n",
       "      <td>3.54</td>\n",
       "      <td>27.4</td>\n",
       "      <td>3.54</td>\n",
       "      <td>1.24</td>\n",
       "      <td>1.9</td>\n",
       "      <td>2.91</td>\n",
       "      <td>0.93</td>\n",
       "      <td>0.51</td>\n",
       "      <td>...</td>\n",
       "      <td>61.82</td>\n",
       "      <td>559.52</td>\n",
       "      <td>281.78</td>\n",
       "      <td>1754.4</td>\n",
       "      <td>684.81</td>\n",
       "      <td>3536.04</td>\n",
       "      <td>2596.44</td>\n",
       "      <td>419.02</td>\n",
       "      <td>7.8</td>\n",
       "      <td>1</td>\n",
       "    </tr>\n",
       "  </tbody>\n",
       "</table>\n",
       "<p>5 rows × 58 columns</p>\n",
       "</div>"
      ],
      "text/plain": [
       "         city      country Meal, Inexpensive Restaurant (USD)  \\\n",
       "NaN      city      country                                 x1   \n",
       "0.0     Delhi        India                                4.9   \n",
       "1.0  Shanghai        China                               5.59   \n",
       "2.0   Jakarta    Indonesia                               2.54   \n",
       "3.0    Manila  Philippines                               3.54   \n",
       "\n",
       "    Meal for 2 People, Mid-range Restaurant, Three-course (USD)  \\\n",
       "NaN                                                 x2            \n",
       "0.0                                              22.04            \n",
       "1.0                                              40.51            \n",
       "2.0                                              22.25            \n",
       "3.0                                               27.4            \n",
       "\n",
       "    McMeal at McDonalds (or Equivalent Combo Meal) (USD)  \\\n",
       "NaN                                                 x3     \n",
       "0.0                                               4.28     \n",
       "1.0                                               5.59     \n",
       "2.0                                                3.5     \n",
       "3.0                                               3.54     \n",
       "\n",
       "    Domestic Beer (0.5 liter draught, in restaurants) (USD)  \\\n",
       "NaN                                                 x4        \n",
       "0.0                                               1.84        \n",
       "1.0                                               1.12        \n",
       "2.0                                               2.02        \n",
       "3.0                                               1.24        \n",
       "\n",
       "    Imported Beer (0.33 liter bottle, in restaurants) (USD)  \\\n",
       "NaN                                                 x5        \n",
       "0.0                                               3.67        \n",
       "1.0                                               4.19        \n",
       "2.0                                               3.18        \n",
       "3.0                                                1.9        \n",
       "\n",
       "    Cappuccino (regular, in restaurants) (USD)  \\\n",
       "NaN                                         x6   \n",
       "0.0                                       1.78   \n",
       "1.0                                       3.96   \n",
       "2.0                                       2.19   \n",
       "3.0                                       2.91   \n",
       "\n",
       "    Coke/Pepsi (0.33 liter bottle, in restaurants) (USD)  \\\n",
       "NaN                                                 x7     \n",
       "0.0                                               0.48     \n",
       "1.0                                               0.52     \n",
       "2.0                                               0.59     \n",
       "3.0                                               0.93     \n",
       "\n",
       "    Water (0.33 liter bottle, in restaurants) (USD)  ...  \\\n",
       "NaN                                              x8  ...   \n",
       "0.0                                            0.19  ...   \n",
       "1.0                                            0.32  ...   \n",
       "2.0                                            0.27  ...   \n",
       "3.0                                            0.51  ...   \n",
       "\n",
       "    1 Pair of Men Leather Business Shoes (USD)  \\\n",
       "NaN                                        x47   \n",
       "0.0                                      36.26   \n",
       "1.0                                     121.19   \n",
       "2.0                                      80.32   \n",
       "3.0                                      61.82   \n",
       "\n",
       "    Apartment (1 bedroom) in City Centre (USD)  \\\n",
       "NaN                                        x48   \n",
       "0.0                                     223.87   \n",
       "1.0                                    1080.07   \n",
       "2.0                                     482.85   \n",
       "3.0                                     559.52   \n",
       "\n",
       "    Apartment (1 bedroom) Outside of Centre (USD)  \\\n",
       "NaN                                           x49   \n",
       "0.0                                        133.38   \n",
       "1.0                                         564.3   \n",
       "2.0                                        270.15   \n",
       "3.0                                        281.78   \n",
       "\n",
       "    Apartment (3 bedrooms) in City Centre (USD)  \\\n",
       "NaN                                         x50   \n",
       "0.0                                      596.16   \n",
       "1.0                                     2972.57   \n",
       "2.0                                     1117.69   \n",
       "3.0                                      1754.4   \n",
       "\n",
       "    Apartment (3 bedrooms) Outside of Centre (USD)  \\\n",
       "NaN                                            x51   \n",
       "0.0                                         325.82   \n",
       "1.0                                        1532.23   \n",
       "2.0                                         584.37   \n",
       "3.0                                         684.81   \n",
       "\n",
       "    Price per Square Meter to Buy Apartment in City Centre (USD)  \\\n",
       "NaN                                                x52             \n",
       "0.0                                            2619.46             \n",
       "1.0                                           17333.09             \n",
       "2.0                                            2694.05             \n",
       "3.0                                            3536.04             \n",
       "\n",
       "    Price per Square Meter to Buy Apartment Outside of Centre (USD)  \\\n",
       "NaN                                                x53                \n",
       "0.0                                             1068.9                \n",
       "1.0                                            9174.88                \n",
       "2.0                                            1269.44                \n",
       "3.0                                            2596.44                \n",
       "\n",
       "    Average Monthly Net Salary (After Tax) (USD)  \\\n",
       "NaN                                          x54   \n",
       "0.0                                       586.35   \n",
       "1.0                                      1382.83   \n",
       "2.0                                       483.19   \n",
       "3.0                                       419.02   \n",
       "\n",
       "    Mortgage Interest Rate in Percentages (%), Yearly, for 20 Years Fixed-Rate  \\\n",
       "NaN                                                x55                           \n",
       "0.0                                               7.96                           \n",
       "1.0                                               5.01                           \n",
       "2.0                                               9.15                           \n",
       "3.0                                                7.8                           \n",
       "\n",
       "    0 if Numbeo considers that more contributors are needed to increase data quality, else 1  \n",
       "NaN                                       data_quality                                        \n",
       "0.0                                                  1                                        \n",
       "1.0                                                  1                                        \n",
       "2.0                                                  1                                        \n",
       "3.0                                                  1                                        \n",
       "\n",
       "[5 rows x 58 columns]"
      ]
     },
     "execution_count": 148,
     "metadata": {},
     "output_type": "execute_result"
    }
   ],
   "source": [
    "data=pd.read_csv('cost-of-living.csv',names=col)\n",
    "data.head()"
   ]
  },
  {
   "cell_type": "code",
   "execution_count": 154,
   "id": "62bc1a52",
   "metadata": {
    "ExecuteTime": {
     "end_time": "2022-12-15T07:16:50.929771Z",
     "start_time": "2022-12-15T07:16:50.909821Z"
    }
   },
   "outputs": [
    {
     "data": {
      "text/plain": [
       "nan"
      ]
     },
     "execution_count": 154,
     "metadata": {},
     "output_type": "execute_result"
    }
   ],
   "source": [
    "data.index[0]"
   ]
  },
  {
   "cell_type": "code",
   "execution_count": 156,
   "id": "c20c5954",
   "metadata": {
    "ExecuteTime": {
     "end_time": "2022-12-15T07:17:33.095248Z",
     "start_time": "2022-12-15T07:17:32.910554Z"
    }
   },
   "outputs": [],
   "source": [
    "data.drop(data.index[0]).to_csv('Livin Index.csv',index=None)"
   ]
  }
 ],
 "metadata": {
  "kernelspec": {
   "display_name": "Python 3 (ipykernel)",
   "language": "python",
   "name": "python3"
  },
  "language_info": {
   "codemirror_mode": {
    "name": "ipython",
    "version": 3
   },
   "file_extension": ".py",
   "mimetype": "text/x-python",
   "name": "python",
   "nbconvert_exporter": "python",
   "pygments_lexer": "ipython3",
   "version": "3.9.13"
  }
 },
 "nbformat": 4,
 "nbformat_minor": 5
}
