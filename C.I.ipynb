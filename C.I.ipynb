{
 "cells": [
  {
   "cell_type": "markdown",
   "id": "7d02fd12",
   "metadata": {},
   "source": [
    "# GBP/USD\n"
   ]
  },
  {
   "cell_type": "code",
   "execution_count": 1,
   "id": "10ac00a4",
   "metadata": {},
   "outputs": [],
   "source": [
    "L={}"
   ]
  },
  {
   "cell_type": "code",
   "execution_count": 2,
   "id": "f7401d8d",
   "metadata": {},
   "outputs": [],
   "source": [
    "import pandas as pd\n",
    "from alpha_vantage.foreignexchange import ForeignExchange\n",
    "import time\n",
    "import matplotlib.pyplot as plt\n",
    "from scipy import stats\n",
    "\n",
    "api_key = 'G7JR90VGP0K0Z50W'\n",
    "fx = ForeignExchange(key=api_key, output_format='pandas')\n",
    "data, meta_data = fx.get_currency_exchange_intraday('GBP','USD','1min', 'COMPACT')\n",
    "# data['4. close'].plot()\n",
    "data.columns=['o','h','l','c']\n",
    "data['change']=data.c.pct_change()\n",
    "df1=data.dropna()\n",
    "\n",
    "GBP_USD = stats.t.interval(0.95,\n",
    "loc = df1.change.mean(),\n",
    "scale = df1.change.std(),df=1)\n",
    "\n",
    "L['GBP_USD']=GBP_USD"
   ]
  },
  {
   "cell_type": "markdown",
   "id": "1df99a17",
   "metadata": {},
   "source": [
    "\n",
    "\n",
    "\n",
    "# EUR/USD"
   ]
  },
  {
   "cell_type": "code",
   "execution_count": 3,
   "id": "f90fb175",
   "metadata": {},
   "outputs": [],
   "source": [
    "data, meta_data = fx.get_currency_exchange_intraday('EUR','USD','1min', 'COMPACT')\n",
    "# data['4. close'].plot()\n",
    "data.columns=['o','h','l','c']\n",
    "data['change']=data.c.pct_change()\n",
    "df1=data.dropna()\n",
    "\n",
    "EUR_USD = stats.norm.interval(0.95,\n",
    "loc = df1.change.mean(),\n",
    "scale = df1.change.std())\n",
    "\n",
    "L['EUR_USD']=EUR_USD"
   ]
  },
  {
   "cell_type": "code",
   "execution_count": 4,
   "id": "66d9b624",
   "metadata": {},
   "outputs": [],
   "source": [
    "# plt.hist(df1.change)\n",
    "# plt.show()"
   ]
  },
  {
   "cell_type": "markdown",
   "id": "e346f5f2",
   "metadata": {},
   "source": [
    "\n",
    "# USD/JPY"
   ]
  },
  {
   "cell_type": "code",
   "execution_count": 5,
   "id": "9220d1fe",
   "metadata": {},
   "outputs": [],
   "source": [
    "data, meta_data = fx.get_currency_exchange_intraday('USD','JPY','1min', 'COMPACT')\n",
    "# data['4. close'].plot()\n",
    "data.columns=['o','h','l','c']\n",
    "data['change']=data.c.pct_change()\n",
    "df1=data.dropna()\n",
    "\n",
    "USD_JPY = stats.norm.interval(0.95,\n",
    "loc = df1.change.mean(),\n",
    "scale = df1.change.std())\n",
    "\n",
    "L['USD_JPY']=USD_JPY"
   ]
  },
  {
   "cell_type": "markdown",
   "id": "d7355dfc",
   "metadata": {},
   "source": [
    "\n",
    "# USD/CHF"
   ]
  },
  {
   "cell_type": "code",
   "execution_count": 6,
   "id": "2d72523b",
   "metadata": {},
   "outputs": [],
   "source": [
    "api_key = '0Q6J2ZR2ZVOLQ65Q'\n",
    "data, meta_data = fx.get_currency_exchange_intraday('USD','CHF','1min', 'COMPACT')\n",
    "# data['4. close'].plot()\n",
    "data.columns=['o','h','l','c']\n",
    "data['change']=data.c.pct_change()\n",
    "df1=data.dropna()\n",
    "\n",
    "USD_CHF = stats.norm.interval(0.95,\n",
    "loc = df1.change.mean(),\n",
    "scale = df1.change.std())\n",
    "\n",
    "L['USD_CHF']=USD_CHF"
   ]
  },
  {
   "cell_type": "markdown",
   "id": "1f4813f1",
   "metadata": {},
   "source": [
    "\n",
    "# AUD/USD"
   ]
  },
  {
   "cell_type": "code",
   "execution_count": 7,
   "id": "ef2d45c4",
   "metadata": {},
   "outputs": [],
   "source": [
    "api_key = '0Q6J2ZR2ZVOLQ65Q'"
   ]
  },
  {
   "cell_type": "code",
   "execution_count": 8,
   "id": "5aae766f",
   "metadata": {},
   "outputs": [],
   "source": [
    "api_key = '0Q6J2ZR2ZVOLQ65Q'\n",
    "fx = ForeignExchange(key=api_key, output_format='pandas')\n",
    "data, meta_data = fx.get_currency_exchange_intraday('AUD','USD','1min', 'COMPACT')\n",
    "# data['4. close'].plot()\n",
    "data.columns=['o','h','l','c']\n",
    "data['change']=data.c.pct_change()\n",
    "df1=data.dropna()\n",
    "\n",
    "AUS_USD = stats.norm.interval(0.95,\n",
    "loc = df1.change.mean(),\n",
    "scale = df1.change.std())\n",
    "\n",
    "L['AUS_USD']=AUS_USD"
   ]
  },
  {
   "cell_type": "markdown",
   "id": "addfa95f",
   "metadata": {},
   "source": [
    "\n",
    "# USD/CAD"
   ]
  },
  {
   "cell_type": "code",
   "execution_count": 9,
   "id": "282d4899",
   "metadata": {},
   "outputs": [
    {
     "ename": "ValueError",
     "evalue": "Thank you for using Alpha Vantage! Our standard API call frequency is 5 calls per minute and 500 calls per day. Please visit https://www.alphavantage.co/premium/ if you would like to target a higher API call frequency.",
     "output_type": "error",
     "traceback": [
      "\u001b[1;31m---------------------------------------------------------------------------\u001b[0m",
      "\u001b[1;31mValueError\u001b[0m                                Traceback (most recent call last)",
      "Input \u001b[1;32mIn [9]\u001b[0m, in \u001b[0;36m<cell line: 4>\u001b[1;34m()\u001b[0m\n\u001b[0;32m      1\u001b[0m api_key \u001b[38;5;241m=\u001b[39m \u001b[38;5;124m'\u001b[39m\u001b[38;5;124mYWB2DP0PPV00JMRS\u001b[39m\u001b[38;5;124m'\u001b[39m\n\u001b[0;32m      3\u001b[0m fx \u001b[38;5;241m=\u001b[39m ForeignExchange(key\u001b[38;5;241m=\u001b[39mapi_key, output_format\u001b[38;5;241m=\u001b[39m\u001b[38;5;124m'\u001b[39m\u001b[38;5;124mpandas\u001b[39m\u001b[38;5;124m'\u001b[39m)\n\u001b[1;32m----> 4\u001b[0m data, meta_data \u001b[38;5;241m=\u001b[39m \u001b[43mfx\u001b[49m\u001b[38;5;241;43m.\u001b[39;49m\u001b[43mget_currency_exchange_intraday\u001b[49m\u001b[43m(\u001b[49m\u001b[38;5;124;43m'\u001b[39;49m\u001b[38;5;124;43mUSD\u001b[39;49m\u001b[38;5;124;43m'\u001b[39;49m\u001b[43m,\u001b[49m\u001b[38;5;124;43m'\u001b[39;49m\u001b[38;5;124;43mCAD\u001b[39;49m\u001b[38;5;124;43m'\u001b[39;49m\u001b[43m,\u001b[49m\u001b[38;5;124;43m'\u001b[39;49m\u001b[38;5;124;43m1min\u001b[39;49m\u001b[38;5;124;43m'\u001b[39;49m\u001b[43m,\u001b[49m\u001b[43m \u001b[49m\u001b[38;5;124;43m'\u001b[39;49m\u001b[38;5;124;43mCOMPACT\u001b[39;49m\u001b[38;5;124;43m'\u001b[39;49m\u001b[43m)\u001b[49m\n\u001b[0;32m      5\u001b[0m \u001b[38;5;66;03m# data['4. close'].plot()\u001b[39;00m\n\u001b[0;32m      6\u001b[0m data\u001b[38;5;241m.\u001b[39mcolumns\u001b[38;5;241m=\u001b[39m[\u001b[38;5;124m'\u001b[39m\u001b[38;5;124mo\u001b[39m\u001b[38;5;124m'\u001b[39m,\u001b[38;5;124m'\u001b[39m\u001b[38;5;124mh\u001b[39m\u001b[38;5;124m'\u001b[39m,\u001b[38;5;124m'\u001b[39m\u001b[38;5;124ml\u001b[39m\u001b[38;5;124m'\u001b[39m,\u001b[38;5;124m'\u001b[39m\u001b[38;5;124mc\u001b[39m\u001b[38;5;124m'\u001b[39m]\n",
      "File \u001b[1;32m~\\AppData\\Roaming\\Python\\Python39\\site-packages\\alpha_vantage\\alphavantage.py:218\u001b[0m, in \u001b[0;36mAlphaVantage._output_format.<locals>._format_wrapper\u001b[1;34m(self, *args, **kwargs)\u001b[0m\n\u001b[0;32m    216\u001b[0m \u001b[38;5;129m@wraps\u001b[39m(func)\n\u001b[0;32m    217\u001b[0m \u001b[38;5;28;01mdef\u001b[39;00m \u001b[38;5;21m_format_wrapper\u001b[39m(\u001b[38;5;28mself\u001b[39m, \u001b[38;5;241m*\u001b[39margs, \u001b[38;5;241m*\u001b[39m\u001b[38;5;241m*\u001b[39mkwargs):\n\u001b[1;32m--> 218\u001b[0m     call_response, data_key, meta_data_key \u001b[38;5;241m=\u001b[39m func(\n\u001b[0;32m    219\u001b[0m         \u001b[38;5;28mself\u001b[39m, \u001b[38;5;241m*\u001b[39margs, \u001b[38;5;241m*\u001b[39m\u001b[38;5;241m*\u001b[39mkwargs)\n\u001b[0;32m    220\u001b[0m     \u001b[38;5;28;01mif\u001b[39;00m \u001b[38;5;124m'\u001b[39m\u001b[38;5;124mjson\u001b[39m\u001b[38;5;124m'\u001b[39m \u001b[38;5;129;01min\u001b[39;00m \u001b[38;5;28mself\u001b[39m\u001b[38;5;241m.\u001b[39moutput_format\u001b[38;5;241m.\u001b[39mlower() \u001b[38;5;129;01mor\u001b[39;00m \u001b[38;5;124m'\u001b[39m\u001b[38;5;124mpandas\u001b[39m\u001b[38;5;124m'\u001b[39m \\\n\u001b[0;32m    221\u001b[0m             \u001b[38;5;129;01min\u001b[39;00m \u001b[38;5;28mself\u001b[39m\u001b[38;5;241m.\u001b[39moutput_format\u001b[38;5;241m.\u001b[39mlower():\n\u001b[0;32m    222\u001b[0m         \u001b[38;5;28;01mif\u001b[39;00m data_key \u001b[38;5;129;01mis\u001b[39;00m \u001b[38;5;129;01mnot\u001b[39;00m \u001b[38;5;28;01mNone\u001b[39;00m:\n",
      "File \u001b[1;32m~\\AppData\\Roaming\\Python\\Python39\\site-packages\\alpha_vantage\\alphavantage.py:160\u001b[0m, in \u001b[0;36mAlphaVantage._call_api_on_func.<locals>._call_wrapper\u001b[1;34m(self, *args, **kwargs)\u001b[0m\n\u001b[0;32m    158\u001b[0m \u001b[38;5;28;01melse\u001b[39;00m:\n\u001b[0;32m    159\u001b[0m     url \u001b[38;5;241m=\u001b[39m \u001b[38;5;124m'\u001b[39m\u001b[38;5;132;01m{}\u001b[39;00m\u001b[38;5;132;01m{}\u001b[39;00m\u001b[38;5;124m'\u001b[39m\u001b[38;5;241m.\u001b[39mformat(url, apikey_parameter)\n\u001b[1;32m--> 160\u001b[0m \u001b[38;5;28;01mreturn\u001b[39;00m \u001b[38;5;28;43mself\u001b[39;49m\u001b[38;5;241;43m.\u001b[39;49m\u001b[43m_handle_api_call\u001b[49m\u001b[43m(\u001b[49m\u001b[43murl\u001b[49m\u001b[43m)\u001b[49m, data_key, meta_data_key\n",
      "File \u001b[1;32m~\\AppData\\Roaming\\Python\\Python39\\site-packages\\alpha_vantage\\alphavantage.py:363\u001b[0m, in \u001b[0;36mAlphaVantage._handle_api_call\u001b[1;34m(self, url)\u001b[0m\n\u001b[0;32m    361\u001b[0m         \u001b[38;5;28;01mraise\u001b[39;00m \u001b[38;5;167;01mValueError\u001b[39;00m(json_response[\u001b[38;5;124m\"\u001b[39m\u001b[38;5;124mInformation\u001b[39m\u001b[38;5;124m\"\u001b[39m])\n\u001b[0;32m    362\u001b[0m     \u001b[38;5;28;01melif\u001b[39;00m \u001b[38;5;124m\"\u001b[39m\u001b[38;5;124mNote\u001b[39m\u001b[38;5;124m\"\u001b[39m \u001b[38;5;129;01min\u001b[39;00m json_response \u001b[38;5;129;01mand\u001b[39;00m \u001b[38;5;28mself\u001b[39m\u001b[38;5;241m.\u001b[39mtreat_info_as_error:\n\u001b[1;32m--> 363\u001b[0m         \u001b[38;5;28;01mraise\u001b[39;00m \u001b[38;5;167;01mValueError\u001b[39;00m(json_response[\u001b[38;5;124m\"\u001b[39m\u001b[38;5;124mNote\u001b[39m\u001b[38;5;124m\"\u001b[39m])\n\u001b[0;32m    364\u001b[0m     \u001b[38;5;28;01mreturn\u001b[39;00m json_response\n\u001b[0;32m    365\u001b[0m \u001b[38;5;28;01melse\u001b[39;00m:\n",
      "\u001b[1;31mValueError\u001b[0m: Thank you for using Alpha Vantage! Our standard API call frequency is 5 calls per minute and 500 calls per day. Please visit https://www.alphavantage.co/premium/ if you would like to target a higher API call frequency."
     ]
    }
   ],
   "source": [
    "api_key = 'YWB2DP0PPV00JMRS'\n",
    "\n",
    "fx = ForeignExchange(key=api_key, output_format='pandas')\n",
    "data, meta_data = fx.get_currency_exchange_intraday('USD','CAD','1min', 'COMPACT')\n",
    "# data['4. close'].plot()\n",
    "data.columns=['o','h','l','c']\n",
    "data['change']=data.c.pct_change()\n",
    "df1=data.dropna()\n",
    "\n",
    "USD_CAD = stats.norm.interval(0.95,\n",
    "loc = df1.change.mean(),\n",
    "scale = df1.change.std())\n",
    "\n",
    "L['USD_CAD']=USD_CAD\n"
   ]
  },
  {
   "cell_type": "markdown",
   "id": "c384edd4",
   "metadata": {},
   "source": [
    "# NZD/USD"
   ]
  },
  {
   "cell_type": "code",
   "execution_count": null,
   "id": "4d3bd25f",
   "metadata": {},
   "outputs": [],
   "source": [
    "data, meta_data = fx.get_currency_exchange_intraday('NZD','USD','1min', 'COMPACT')\n",
    "# data['4. close'].plot()\n",
    "data.columns=['o','h','l','c']\n",
    "data['change']=data.c.pct_change()\n",
    "df1=data.dropna()\n",
    "\n",
    "NZD_USD = stats.norm.interval(0.95,\n",
    "loc = df1.change.mean(),\n",
    "scale = df1.change.std())\n",
    "\n",
    "L['NZD_USD']=NZD_USD"
   ]
  },
  {
   "cell_type": "code",
   "execution_count": null,
   "id": "5d8e6463",
   "metadata": {},
   "outputs": [],
   "source": [
    "L"
   ]
  },
  {
   "cell_type": "code",
   "execution_count": null,
   "id": "fbb4d458",
   "metadata": {},
   "outputs": [],
   "source": []
  }
 ],
 "metadata": {
  "kernelspec": {
   "display_name": "Python 3 (ipykernel)",
   "language": "python",
   "name": "python3"
  },
  "language_info": {
   "codemirror_mode": {
    "name": "ipython",
    "version": 3
   },
   "file_extension": ".py",
   "mimetype": "text/x-python",
   "name": "python",
   "nbconvert_exporter": "python",
   "pygments_lexer": "ipython3",
   "version": "3.10.4"
  }
 },
 "nbformat": 4,
 "nbformat_minor": 5
}
