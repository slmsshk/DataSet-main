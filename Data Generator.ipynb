{
 "cells": [
  {
   "cell_type": "code",
   "execution_count": 1,
   "id": "4bbef5d4",
   "metadata": {},
   "outputs": [],
   "source": [
    "# !pip install barnum\n",
    "# !pip install randomname"
   ]
  },
  {
   "cell_type": "code",
   "execution_count": 2,
   "id": "55195d71",
   "metadata": {},
   "outputs": [],
   "source": [
    "# dir(barnum),dir(rm)\n",
    "# barnum.create_city_state_zip(zip_code=None)[1] #Get city name\n",
    "# print('adjective categories:', randomname.ADJECTIVES) #Print Available adj\n",
    "# print('noun categories:', randomname.NOUNS) #Print available nouns"
   ]
  },
  {
   "cell_type": "code",
   "execution_count": 3,
   "id": "3474c831",
   "metadata": {},
   "outputs": [],
   "source": [
    "# import randomname\n",
    "\n",
    "# # generate name using all categories\n",
    "# # name = randomname.get_name()\n",
    "# # or specify a subset of the categories\n",
    "# name = randomname.get_name( noun=( 'wine'))\n",
    "# # # or - you can take a bit more liberty about\n",
    "# # name = randomname.generate(\n",
    "# #     'v/fire', 'adj/music_theory', ('n/cats', 'n/food'))\n",
    "\n",
    "# # # these contain the available groups\n",
    "# # print('adjective categories:', randomname.ADJECTIVES)\n",
    "# # print('noun categories:', randomname.NOUNS)\n",
    "\n",
    "# print(name)"
   ]
  },
  {
   "cell_type": "code",
   "execution_count": 4,
   "id": "095aab21",
   "metadata": {},
   "outputs": [],
   "source": [
    "import barnum\n",
    "import randomname as rm\n",
    "\n",
    "import pandas as pd\n",
    "import numpy as np"
   ]
  },
  {
   "cell_type": "code",
   "execution_count": 5,
   "id": "496c6647",
   "metadata": {},
   "outputs": [
    {
     "data": {
      "text/html": [
       "<div>\n",
       "<style scoped>\n",
       "    .dataframe tbody tr th:only-of-type {\n",
       "        vertical-align: middle;\n",
       "    }\n",
       "\n",
       "    .dataframe tbody tr th {\n",
       "        vertical-align: top;\n",
       "    }\n",
       "\n",
       "    .dataframe thead th {\n",
       "        text-align: right;\n",
       "    }\n",
       "</style>\n",
       "<table border=\"1\" class=\"dataframe\">\n",
       "  <thead>\n",
       "    <tr style=\"text-align: right;\">\n",
       "      <th></th>\n",
       "      <th>Sales</th>\n",
       "      <th>Product</th>\n",
       "      <th>District</th>\n",
       "      <th>Date</th>\n",
       "    </tr>\n",
       "  </thead>\n",
       "  <tbody>\n",
       "    <tr>\n",
       "      <th>0</th>\n",
       "      <td>514</td>\n",
       "      <td>aged-chinon</td>\n",
       "      <td>Branchville</td>\n",
       "      <td>2027-05-23 21:34:58.640361</td>\n",
       "    </tr>\n",
       "    <tr>\n",
       "      <th>1</th>\n",
       "      <td>1693</td>\n",
       "      <td>spry-champagne</td>\n",
       "      <td>Charleston</td>\n",
       "      <td>2024-03-26 21:34:58.640361</td>\n",
       "    </tr>\n",
       "    <tr>\n",
       "      <th>2</th>\n",
       "      <td>1026</td>\n",
       "      <td>local-marsanne</td>\n",
       "      <td>Boise</td>\n",
       "      <td>2023-10-02 21:34:58.640361</td>\n",
       "    </tr>\n",
       "    <tr>\n",
       "      <th>3</th>\n",
       "      <td>763</td>\n",
       "      <td>rounded-chardonnay</td>\n",
       "      <td>Pensacola</td>\n",
       "      <td>2027-07-21 21:34:58.640361</td>\n",
       "    </tr>\n",
       "    <tr>\n",
       "      <th>4</th>\n",
       "      <td>950</td>\n",
       "      <td>taxonomic-muscat</td>\n",
       "      <td>Round Rock</td>\n",
       "      <td>2024-08-02 21:34:58.640361</td>\n",
       "    </tr>\n",
       "  </tbody>\n",
       "</table>\n",
       "</div>"
      ],
      "text/plain": [
       "   Sales             Product     District                       Date\n",
       "0    514         aged-chinon  Branchville 2027-05-23 21:34:58.640361\n",
       "1   1693      spry-champagne   Charleston 2024-03-26 21:34:58.640361\n",
       "2   1026      local-marsanne        Boise 2023-10-02 21:34:58.640361\n",
       "3    763  rounded-chardonnay    Pensacola 2027-07-21 21:34:58.640361\n",
       "4    950    taxonomic-muscat   Round Rock 2024-08-02 21:34:58.640361"
      ]
     },
     "execution_count": 5,
     "metadata": {},
     "output_type": "execute_result"
    }
   ],
   "source": [
    "x={\n",
    "    \"Sales\":np.random.randint(500,2000,10000),\n",
    "    \"Product\":[rm.get_name( noun=( 'wine')) for i in range (10000)],\n",
    "   'District':[barnum.create_city_state_zip(zip_code=None)[1] for i in range(10000)],\n",
    "   'Date':[barnum.create_date() for i in range(10000)]\n",
    "  }\n",
    "\n",
    "df=pd.DataFrame(x)\n",
    "df.head()"
   ]
  },
  {
   "cell_type": "code",
   "execution_count": 6,
   "id": "0a7ac8df",
   "metadata": {},
   "outputs": [
    {
     "data": {
      "text/html": [
       "<div>\n",
       "<style scoped>\n",
       "    .dataframe tbody tr th:only-of-type {\n",
       "        vertical-align: middle;\n",
       "    }\n",
       "\n",
       "    .dataframe tbody tr th {\n",
       "        vertical-align: top;\n",
       "    }\n",
       "\n",
       "    .dataframe thead th {\n",
       "        text-align: right;\n",
       "    }\n",
       "</style>\n",
       "<table border=\"1\" class=\"dataframe\">\n",
       "  <thead>\n",
       "    <tr style=\"text-align: right;\">\n",
       "      <th></th>\n",
       "      <th>Sales</th>\n",
       "      <th>Product</th>\n",
       "      <th>District</th>\n",
       "    </tr>\n",
       "    <tr>\n",
       "      <th>Date</th>\n",
       "      <th></th>\n",
       "      <th></th>\n",
       "      <th></th>\n",
       "    </tr>\n",
       "  </thead>\n",
       "  <tbody>\n",
       "    <tr>\n",
       "      <th>2022-10-11 21:34:58.671609</th>\n",
       "      <td>571</td>\n",
       "      <td>pointed-arneis</td>\n",
       "      <td>Belton</td>\n",
       "    </tr>\n",
       "    <tr>\n",
       "      <th>2022-10-11 21:34:58.671609</th>\n",
       "      <td>1840</td>\n",
       "      <td>dichotomic-muscat</td>\n",
       "      <td>Palatine</td>\n",
       "    </tr>\n",
       "    <tr>\n",
       "      <th>2022-10-12 21:34:58.671609</th>\n",
       "      <td>1124</td>\n",
       "      <td>corn-burgundy</td>\n",
       "      <td>Wren</td>\n",
       "    </tr>\n",
       "    <tr>\n",
       "      <th>2022-10-14 21:34:58.655987</th>\n",
       "      <td>1854</td>\n",
       "      <td>achromatic-auslese</td>\n",
       "      <td>Bakers Mills</td>\n",
       "    </tr>\n",
       "    <tr>\n",
       "      <th>2022-10-14 21:34:58.655987</th>\n",
       "      <td>1122</td>\n",
       "      <td>optimal-chianti</td>\n",
       "      <td>Sanford</td>\n",
       "    </tr>\n",
       "  </tbody>\n",
       "</table>\n",
       "</div>"
      ],
      "text/plain": [
       "                            Sales             Product      District\n",
       "Date                                                               \n",
       "2022-10-11 21:34:58.671609    571      pointed-arneis        Belton\n",
       "2022-10-11 21:34:58.671609   1840   dichotomic-muscat      Palatine\n",
       "2022-10-12 21:34:58.671609   1124       corn-burgundy          Wren\n",
       "2022-10-14 21:34:58.655987   1854  achromatic-auslese  Bakers Mills\n",
       "2022-10-14 21:34:58.655987   1122     optimal-chianti       Sanford"
      ]
     },
     "execution_count": 6,
     "metadata": {},
     "output_type": "execute_result"
    }
   ],
   "source": [
    "df2=df.set_index(pd.DatetimeIndex(df['Date'])).drop('Date',axis=1).sort_index()\n",
    "df2.head()"
   ]
  }
 ],
 "metadata": {
  "kernelspec": {
   "display_name": "Python 3 (ipykernel)",
   "language": "python",
   "name": "python3"
  },
  "language_info": {
   "codemirror_mode": {
    "name": "ipython",
    "version": 3
   },
   "file_extension": ".py",
   "mimetype": "text/x-python",
   "name": "python",
   "nbconvert_exporter": "python",
   "pygments_lexer": "ipython3",
   "version": "3.9.12"
  }
 },
 "nbformat": 4,
 "nbformat_minor": 5
}
